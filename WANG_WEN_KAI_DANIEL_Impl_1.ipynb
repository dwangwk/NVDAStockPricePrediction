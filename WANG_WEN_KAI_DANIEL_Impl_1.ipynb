{
 "cells": [
  {
   "cell_type": "code",
   "execution_count": 1,
   "id": "0c8d1788",
   "metadata": {},
   "outputs": [],
   "source": [
    "# This program uses an LSTM to predict the closing stock price of NVDA using \n",
    "# the past 60 day stock price\n",
    "# Issues with this program:\n",
    "# Only predicts the stock price of the following day\n",
    "# Therefore to obtain the next 10 days, it has to make use of predictions of the previous day\n",
    "# rather than predicting all 10 days\n",
    "\n",
    "import math\n",
    "import pandas_datareader as web\n",
    "import pandas as pd\n",
    "import numpy as np\n",
    "from sklearn.preprocessing import MinMaxScaler\n",
    "from keras.models import Sequential\n",
    "from keras.layers import Dense, LSTM\n",
    "import matplotlib.pyplot as plt\n",
    "plt.style.use('fivethirtyeight')"
   ]
  },
  {
   "cell_type": "code",
   "execution_count": 2,
   "id": "fcee9da1",
   "metadata": {},
   "outputs": [
    {
     "data": {
      "text/html": [
       "<div>\n",
       "<style scoped>\n",
       "    .dataframe tbody tr th:only-of-type {\n",
       "        vertical-align: middle;\n",
       "    }\n",
       "\n",
       "    .dataframe tbody tr th {\n",
       "        vertical-align: top;\n",
       "    }\n",
       "\n",
       "    .dataframe thead th {\n",
       "        text-align: right;\n",
       "    }\n",
       "</style>\n",
       "<table border=\"1\" class=\"dataframe\">\n",
       "  <thead>\n",
       "    <tr style=\"text-align: right;\">\n",
       "      <th></th>\n",
       "      <th>High</th>\n",
       "      <th>Low</th>\n",
       "      <th>Open</th>\n",
       "      <th>Close</th>\n",
       "      <th>Volume</th>\n",
       "      <th>Adj Close</th>\n",
       "    </tr>\n",
       "    <tr>\n",
       "      <th>Date</th>\n",
       "      <th></th>\n",
       "      <th></th>\n",
       "      <th></th>\n",
       "      <th></th>\n",
       "      <th></th>\n",
       "      <th></th>\n",
       "    </tr>\n",
       "  </thead>\n",
       "  <tbody>\n",
       "    <tr>\n",
       "      <th>2012-01-03</th>\n",
       "      <td>3.600000</td>\n",
       "      <td>3.502500</td>\n",
       "      <td>3.575000</td>\n",
       "      <td>3.510000</td>\n",
       "      <td>46804400.0</td>\n",
       "      <td>3.222134</td>\n",
       "    </tr>\n",
       "    <tr>\n",
       "      <th>2012-01-04</th>\n",
       "      <td>3.565000</td>\n",
       "      <td>3.480000</td>\n",
       "      <td>3.512500</td>\n",
       "      <td>3.550000</td>\n",
       "      <td>34737200.0</td>\n",
       "      <td>3.258854</td>\n",
       "    </tr>\n",
       "    <tr>\n",
       "      <th>2012-01-05</th>\n",
       "      <td>3.695000</td>\n",
       "      <td>3.517500</td>\n",
       "      <td>3.532500</td>\n",
       "      <td>3.677500</td>\n",
       "      <td>56354800.0</td>\n",
       "      <td>3.375897</td>\n",
       "    </tr>\n",
       "    <tr>\n",
       "      <th>2012-01-06</th>\n",
       "      <td>3.677500</td>\n",
       "      <td>3.592500</td>\n",
       "      <td>3.675000</td>\n",
       "      <td>3.635000</td>\n",
       "      <td>53325200.0</td>\n",
       "      <td>3.336883</td>\n",
       "    </tr>\n",
       "    <tr>\n",
       "      <th>2012-01-09</th>\n",
       "      <td>3.705000</td>\n",
       "      <td>3.610000</td>\n",
       "      <td>3.637500</td>\n",
       "      <td>3.635000</td>\n",
       "      <td>50824400.0</td>\n",
       "      <td>3.336883</td>\n",
       "    </tr>\n",
       "    <tr>\n",
       "      <th>...</th>\n",
       "      <td>...</td>\n",
       "      <td>...</td>\n",
       "      <td>...</td>\n",
       "      <td>...</td>\n",
       "      <td>...</td>\n",
       "      <td>...</td>\n",
       "    </tr>\n",
       "    <tr>\n",
       "      <th>2022-10-17</th>\n",
       "      <td>119.480003</td>\n",
       "      <td>115.169998</td>\n",
       "      <td>115.180000</td>\n",
       "      <td>118.879997</td>\n",
       "      <td>58077400.0</td>\n",
       "      <td>118.879997</td>\n",
       "    </tr>\n",
       "    <tr>\n",
       "      <th>2022-10-18</th>\n",
       "      <td>124.919998</td>\n",
       "      <td>116.180000</td>\n",
       "      <td>123.440002</td>\n",
       "      <td>119.669998</td>\n",
       "      <td>65936200.0</td>\n",
       "      <td>119.669998</td>\n",
       "    </tr>\n",
       "    <tr>\n",
       "      <th>2022-10-19</th>\n",
       "      <td>123.500000</td>\n",
       "      <td>118.339996</td>\n",
       "      <td>118.790001</td>\n",
       "      <td>120.510002</td>\n",
       "      <td>52313100.0</td>\n",
       "      <td>120.510002</td>\n",
       "    </tr>\n",
       "    <tr>\n",
       "      <th>2022-10-20</th>\n",
       "      <td>127.690002</td>\n",
       "      <td>121.050003</td>\n",
       "      <td>121.129997</td>\n",
       "      <td>121.940002</td>\n",
       "      <td>65239800.0</td>\n",
       "      <td>121.940002</td>\n",
       "    </tr>\n",
       "    <tr>\n",
       "      <th>2022-10-21</th>\n",
       "      <td>124.980003</td>\n",
       "      <td>118.870003</td>\n",
       "      <td>120.980003</td>\n",
       "      <td>124.660004</td>\n",
       "      <td>60893800.0</td>\n",
       "      <td>124.660004</td>\n",
       "    </tr>\n",
       "  </tbody>\n",
       "</table>\n",
       "<p>2720 rows × 6 columns</p>\n",
       "</div>"
      ],
      "text/plain": [
       "                  High         Low        Open       Close      Volume  \\\n",
       "Date                                                                     \n",
       "2012-01-03    3.600000    3.502500    3.575000    3.510000  46804400.0   \n",
       "2012-01-04    3.565000    3.480000    3.512500    3.550000  34737200.0   \n",
       "2012-01-05    3.695000    3.517500    3.532500    3.677500  56354800.0   \n",
       "2012-01-06    3.677500    3.592500    3.675000    3.635000  53325200.0   \n",
       "2012-01-09    3.705000    3.610000    3.637500    3.635000  50824400.0   \n",
       "...                ...         ...         ...         ...         ...   \n",
       "2022-10-17  119.480003  115.169998  115.180000  118.879997  58077400.0   \n",
       "2022-10-18  124.919998  116.180000  123.440002  119.669998  65936200.0   \n",
       "2022-10-19  123.500000  118.339996  118.790001  120.510002  52313100.0   \n",
       "2022-10-20  127.690002  121.050003  121.129997  121.940002  65239800.0   \n",
       "2022-10-21  124.980003  118.870003  120.980003  124.660004  60893800.0   \n",
       "\n",
       "             Adj Close  \n",
       "Date                    \n",
       "2012-01-03    3.222134  \n",
       "2012-01-04    3.258854  \n",
       "2012-01-05    3.375897  \n",
       "2012-01-06    3.336883  \n",
       "2012-01-09    3.336883  \n",
       "...                ...  \n",
       "2022-10-17  118.879997  \n",
       "2022-10-18  119.669998  \n",
       "2022-10-19  120.510002  \n",
       "2022-10-20  121.940002  \n",
       "2022-10-21  124.660004  \n",
       "\n",
       "[2720 rows x 6 columns]"
      ]
     },
     "execution_count": 2,
     "metadata": {},
     "output_type": "execute_result"
    }
   ],
   "source": [
    "df = web.DataReader('NVDA', data_source='yahoo', start='2012-01-01', end='2022-10-21')\n",
    "df"
   ]
  },
  {
   "cell_type": "code",
   "execution_count": 3,
   "id": "3d3bd2eb",
   "metadata": {},
   "outputs": [
    {
     "data": {
      "text/plain": [
       "2176"
      ]
     },
     "execution_count": 3,
     "metadata": {},
     "output_type": "execute_result"
    }
   ],
   "source": [
    "#create dataset w/ only closing price\n",
    "data = df.filter(['Close'])\n",
    "dataset = data.values\n",
    "training_data_len = math.ceil(len(dataset) * .8)\n",
    "\n",
    "training_data_len\n"
   ]
  },
  {
   "cell_type": "code",
   "execution_count": 4,
   "id": "8fd9afa5",
   "metadata": {},
   "outputs": [
    {
     "data": {
      "text/plain": [
       "array([[0.00200958],\n",
       "       [0.00213046],\n",
       "       [0.00251575],\n",
       "       ...,\n",
       "       [0.35557469],\n",
       "       [0.35989604],\n",
       "       [0.36811568]])"
      ]
     },
     "execution_count": 4,
     "metadata": {},
     "output_type": "execute_result"
    }
   ],
   "source": [
    "#scaling values\n",
    "scaler = MinMaxScaler(feature_range = (0,1))\n",
    "scaled_data = scaler.fit_transform(dataset)\n",
    "\n",
    "scaled_data"
   ]
  },
  {
   "cell_type": "code",
   "execution_count": 5,
   "id": "bf9cd839",
   "metadata": {},
   "outputs": [
    {
     "name": "stdout",
     "output_type": "stream",
     "text": [
      "[array([0.00200958, 0.00213046, 0.00251575, 0.00238732, 0.00238732,\n",
      "       0.00234199, 0.0021229 , 0.00205491, 0.00177538, 0.00161673,\n",
      "       0.00196425, 0.00224378, 0.00214557, 0.0024402 , 0.00268951,\n",
      "       0.00262152, 0.00251575, 0.00266685, 0.00258375, 0.00256108,\n",
      "       0.00268196, 0.00310503, 0.00335434, 0.00326368, 0.0032939 ,\n",
      "       0.00372452, 0.00371697, 0.00341477, 0.00360364, 0.00367164,\n",
      "       0.00361875, 0.00383029, 0.003377  , 0.00343744, 0.00335434,\n",
      "       0.00342233, 0.00333167, 0.00308992, 0.00298415, 0.00284816,\n",
      "       0.00292371, 0.00302192, 0.00262907, 0.00252331, 0.0025913 ,\n",
      "       0.00262907, 0.00259885, 0.00242509, 0.00257619, 0.00225889,\n",
      "       0.00241754, 0.00243265, 0.00246287, 0.00228155, 0.00232688,\n",
      "       0.00231177, 0.00239487, 0.00252331, 0.00259885, 0.00285572])]\n",
      "[0.0029086013889601803]\n",
      "\n",
      "[array([0.00200958, 0.00213046, 0.00251575, 0.00238732, 0.00238732,\n",
      "       0.00234199, 0.0021229 , 0.00205491, 0.00177538, 0.00161673,\n",
      "       0.00196425, 0.00224378, 0.00214557, 0.0024402 , 0.00268951,\n",
      "       0.00262152, 0.00251575, 0.00266685, 0.00258375, 0.00256108,\n",
      "       0.00268196, 0.00310503, 0.00335434, 0.00326368, 0.0032939 ,\n",
      "       0.00372452, 0.00371697, 0.00341477, 0.00360364, 0.00367164,\n",
      "       0.00361875, 0.00383029, 0.003377  , 0.00343744, 0.00335434,\n",
      "       0.00342233, 0.00333167, 0.00308992, 0.00298415, 0.00284816,\n",
      "       0.00292371, 0.00302192, 0.00262907, 0.00252331, 0.0025913 ,\n",
      "       0.00262907, 0.00259885, 0.00242509, 0.00257619, 0.00225889,\n",
      "       0.00241754, 0.00243265, 0.00246287, 0.00228155, 0.00232688,\n",
      "       0.00231177, 0.00239487, 0.00252331, 0.00259885, 0.00285572]), array([0.00213046, 0.00251575, 0.00238732, 0.00238732, 0.00234199,\n",
      "       0.0021229 , 0.00205491, 0.00177538, 0.00161673, 0.00196425,\n",
      "       0.00224378, 0.00214557, 0.0024402 , 0.00268951, 0.00262152,\n",
      "       0.00251575, 0.00266685, 0.00258375, 0.00256108, 0.00268196,\n",
      "       0.00310503, 0.00335434, 0.00326368, 0.0032939 , 0.00372452,\n",
      "       0.00371697, 0.00341477, 0.00360364, 0.00367164, 0.00361875,\n",
      "       0.00383029, 0.003377  , 0.00343744, 0.00335434, 0.00342233,\n",
      "       0.00333167, 0.00308992, 0.00298415, 0.00284816, 0.00292371,\n",
      "       0.00302192, 0.00262907, 0.00252331, 0.0025913 , 0.00262907,\n",
      "       0.00259885, 0.00242509, 0.00257619, 0.00225889, 0.00241754,\n",
      "       0.00243265, 0.00246287, 0.00228155, 0.00232688, 0.00231177,\n",
      "       0.00239487, 0.00252331, 0.00259885, 0.00285572, 0.0029086 ])]\n",
      "[0.0029086013889601803, 0.0030370332153293184]\n",
      "\n"
     ]
    }
   ],
   "source": [
    "#create training dataset\n",
    "#create scaled training dataset\n",
    "train_data = scaled_data[0:training_data_len, :]\n",
    "#split data into x_train and y_train\n",
    "x_train = []\n",
    "y_train = []\n",
    "\n",
    "for i in range(60, len(train_data)):\n",
    "    x_train.append(train_data[i-60:i, 0])\n",
    "    y_train.append(train_data[i,0])\n",
    "    if i <=61:\n",
    "        print(x_train)\n",
    "        print(y_train)\n",
    "        print()"
   ]
  },
  {
   "cell_type": "code",
   "execution_count": 6,
   "id": "ff40d71d",
   "metadata": {},
   "outputs": [],
   "source": [
    "#convert x_train and y_train into numpy array\n",
    "x_train, y_train = np.array(x_train), np.array(y_train)"
   ]
  },
  {
   "cell_type": "code",
   "execution_count": 7,
   "id": "c4933507",
   "metadata": {},
   "outputs": [
    {
     "data": {
      "text/plain": [
       "(2116, 60, 1)"
      ]
     },
     "execution_count": 7,
     "metadata": {},
     "output_type": "execute_result"
    }
   ],
   "source": [
    "#reshape the data\n",
    "#LSTM no. of samples, no. of timestamps, no. of features\n",
    "x_train = np.reshape(x_train, (x_train.shape[0], x_train.shape[1], 1))\n",
    "x_train.shape"
   ]
  },
  {
   "cell_type": "code",
   "execution_count": 8,
   "id": "95f4b57f",
   "metadata": {},
   "outputs": [],
   "source": [
    "#build LSTM model\n",
    "model = Sequential()\n",
    "model.add(LSTM(50, return_sequences = True, input_shape = (x_train.shape[1], 1)))\n",
    "model.add(LSTM(50, return_sequences = False))\n",
    "model.add(Dense(25))\n",
    "model.add(Dense(1))"
   ]
  },
  {
   "cell_type": "code",
   "execution_count": 9,
   "id": "79b18d66",
   "metadata": {},
   "outputs": [],
   "source": [
    "#Compile model\n",
    "model.compile(optimizer = 'adam', loss = 'mean_squared_error')"
   ]
  },
  {
   "cell_type": "code",
   "execution_count": 10,
   "id": "9dfddef5",
   "metadata": {},
   "outputs": [
    {
     "name": "stdout",
     "output_type": "stream",
     "text": [
      "2116/2116 [==============================] - 26s 11ms/step - loss: 1.9694e-04\n"
     ]
    },
    {
     "data": {
      "text/plain": [
       "<keras.callbacks.History at 0x1f1937ca948>"
      ]
     },
     "execution_count": 10,
     "metadata": {},
     "output_type": "execute_result"
    }
   ],
   "source": [
    "#train the model\n",
    "model.fit(x_train, y_train, batch_size = 1, epochs = 1)"
   ]
  },
  {
   "cell_type": "code",
   "execution_count": 11,
   "id": "ef6662a0",
   "metadata": {},
   "outputs": [],
   "source": [
    "test_data = scaled_data[training_data_len - 60: , :]\n",
    "x_test = []\n",
    "y_test = dataset[training_data_len:, :]\n",
    "for i in range(60, len(test_data)):\n",
    "    x_test.append(test_data[i-60:i, 0])\n"
   ]
  },
  {
   "cell_type": "code",
   "execution_count": 12,
   "id": "d6c94802",
   "metadata": {},
   "outputs": [],
   "source": [
    "# convert the data into a numpy array\n",
    "x_test = np.array(x_test)"
   ]
  },
  {
   "cell_type": "code",
   "execution_count": 13,
   "id": "ec9ed8c4",
   "metadata": {},
   "outputs": [],
   "source": [
    "x_test = np.reshape(x_test, (x_test.shape[0], x_test.shape[1], 1))"
   ]
  },
  {
   "cell_type": "code",
   "execution_count": 14,
   "id": "8e87d8c9",
   "metadata": {},
   "outputs": [
    {
     "name": "stdout",
     "output_type": "stream",
     "text": [
      "17/17 [==============================] - 1s 11ms/step\n"
     ]
    }
   ],
   "source": [
    "#models predicted price\n",
    "predictions = model.predict(x_test)\n",
    "predictions = scaler.inverse_transform(predictions)"
   ]
  },
  {
   "cell_type": "code",
   "execution_count": 15,
   "id": "25765aa8",
   "metadata": {},
   "outputs": [
    {
     "data": {
      "text/plain": [
       "16.73215102711993"
      ]
     },
     "execution_count": 15,
     "metadata": {},
     "output_type": "execute_result"
    }
   ],
   "source": [
    "rmse = np.sqrt(np.mean(((predictions- y_test)**2)))\n",
    "rmse"
   ]
  },
  {
   "cell_type": "code",
   "execution_count": 16,
   "id": "cd496e6c",
   "metadata": {},
   "outputs": [
    {
     "name": "stderr",
     "output_type": "stream",
     "text": [
      "C:\\Users\\Daniel\\anaconda3\\envs\\tensorflow\\lib\\site-packages\\ipykernel_launcher.py:4: SettingWithCopyWarning: \n",
      "A value is trying to be set on a copy of a slice from a DataFrame.\n",
      "Try using .loc[row_indexer,col_indexer] = value instead\n",
      "\n",
      "See the caveats in the documentation: https://pandas.pydata.org/pandas-docs/stable/user_guide/indexing.html#returning-a-view-versus-a-copy\n",
      "  after removing the cwd from sys.path.\n"
     ]
    },
    {
     "data": {
      "image/png": "[encoded data removed]",
      "text/plain": [
       "<Figure size 1600x800 with 1 Axes>"
      ]
     },
     "metadata": {},
     "output_type": "display_data"
    }
   ],
   "source": [
    "#plot data\n",
    "train = data[:training_data_len]\n",
    "valid = data[training_data_len:]\n",
    "valid['Predictions'] = predictions\n",
    "\n",
    "#visualisations\n",
    "plt.figure(figsize = (16,8))\n",
    "plt.title('Model')\n",
    "plt.xlabel('Date', fontsize=18)\n",
    "plt.ylabel('Close Price USD ($)', fontsize = 18)\n",
    "plt.plot(train['Close'])\n",
    "plt.plot(valid[['Close', 'Predictions']])\n",
    "plt.legend(['Train', 'Val', 'Predictions'], loc='lower right')\n",
    "plt.show()"
   ]
  },
  {
   "cell_type": "code",
   "execution_count": 17,
   "id": "8605709d",
   "metadata": {},
   "outputs": [
    {
     "data": {
      "text/html": [
       "<div>\n",
       "<style scoped>\n",
       "    .dataframe tbody tr th:only-of-type {\n",
       "        vertical-align: middle;\n",
       "    }\n",
       "\n",
       "    .dataframe tbody tr th {\n",
       "        vertical-align: top;\n",
       "    }\n",
       "\n",
       "    .dataframe thead th {\n",
       "        text-align: right;\n",
       "    }\n",
       "</style>\n",
       "<table border=\"1\" class=\"dataframe\">\n",
       "  <thead>\n",
       "    <tr style=\"text-align: right;\">\n",
       "      <th></th>\n",
       "      <th>Close</th>\n",
       "      <th>Predictions</th>\n",
       "    </tr>\n",
       "    <tr>\n",
       "      <th>Date</th>\n",
       "      <th></th>\n",
       "      <th></th>\n",
       "    </tr>\n",
       "  </thead>\n",
       "  <tbody>\n",
       "    <tr>\n",
       "      <th>2020-08-26</th>\n",
       "      <td>127.730003</td>\n",
       "      <td>124.065094</td>\n",
       "    </tr>\n",
       "    <tr>\n",
       "      <th>2020-08-27</th>\n",
       "      <td>126.282501</td>\n",
       "      <td>125.398254</td>\n",
       "    </tr>\n",
       "    <tr>\n",
       "      <th>2020-08-28</th>\n",
       "      <td>131.477493</td>\n",
       "      <td>126.315460</td>\n",
       "    </tr>\n",
       "    <tr>\n",
       "      <th>2020-08-31</th>\n",
       "      <td>133.744995</td>\n",
       "      <td>127.572937</td>\n",
       "    </tr>\n",
       "    <tr>\n",
       "      <th>2020-09-01</th>\n",
       "      <td>138.210007</td>\n",
       "      <td>129.118225</td>\n",
       "    </tr>\n",
       "    <tr>\n",
       "      <th>...</th>\n",
       "      <td>...</td>\n",
       "      <td>...</td>\n",
       "    </tr>\n",
       "    <tr>\n",
       "      <th>2022-10-17</th>\n",
       "      <td>118.879997</td>\n",
       "      <td>121.409172</td>\n",
       "    </tr>\n",
       "    <tr>\n",
       "      <th>2022-10-18</th>\n",
       "      <td>119.669998</td>\n",
       "      <td>120.539688</td>\n",
       "    </tr>\n",
       "    <tr>\n",
       "      <th>2022-10-19</th>\n",
       "      <td>120.510002</td>\n",
       "      <td>120.222267</td>\n",
       "    </tr>\n",
       "    <tr>\n",
       "      <th>2022-10-20</th>\n",
       "      <td>121.940002</td>\n",
       "      <td>120.298950</td>\n",
       "    </tr>\n",
       "    <tr>\n",
       "      <th>2022-10-21</th>\n",
       "      <td>124.660004</td>\n",
       "      <td>120.721092</td>\n",
       "    </tr>\n",
       "  </tbody>\n",
       "</table>\n",
       "<p>544 rows × 2 columns</p>\n",
       "</div>"
      ],
      "text/plain": [
       "                 Close  Predictions\n",
       "Date                               \n",
       "2020-08-26  127.730003   124.065094\n",
       "2020-08-27  126.282501   125.398254\n",
       "2020-08-28  131.477493   126.315460\n",
       "2020-08-31  133.744995   127.572937\n",
       "2020-09-01  138.210007   129.118225\n",
       "...                ...          ...\n",
       "2022-10-17  118.879997   121.409172\n",
       "2022-10-18  119.669998   120.539688\n",
       "2022-10-19  120.510002   120.222267\n",
       "2022-10-20  121.940002   120.298950\n",
       "2022-10-21  124.660004   120.721092\n",
       "\n",
       "[544 rows x 2 columns]"
      ]
     },
     "execution_count": 17,
     "metadata": {},
     "output_type": "execute_result"
    }
   ],
   "source": [
    "#show the valid and predicted prices\n",
    "valid"
   ]
  },
  {
   "cell_type": "code",
   "execution_count": 77,
   "id": "5ca399e7",
   "metadata": {},
   "outputs": [
    {
     "name": "stdout",
     "output_type": "stream",
     "text": [
      "1/1 [==============================] - 0s 12ms/step\n",
      "[[121.58123]]\n",
      "1/1 [==============================] - 0s 16ms/step\n",
      "[[122.17194]]\n",
      "1/1 [==============================] - 0s 15ms/step\n",
      "[[122.64615]]\n",
      "1/1 [==============================] - 0s 16ms/step\n"
     ]
    },
    {
     "name": "stderr",
     "output_type": "stream",
     "text": [
      "C:\\Users\\Daniel\\anaconda3\\envs\\tensorflow\\lib\\site-packages\\sklearn\\base.py:444: UserWarning: X has feature names, but MinMaxScaler was fitted without feature names\n",
      "  f\"X has feature names, but {self.__class__.__name__} was fitted without\"\n"
     ]
    },
    {
     "name": "stdout",
     "output_type": "stream",
     "text": [
      "[[123.06531]]\n",
      "1/1 [==============================] - 0s 18ms/step\n",
      "[[123.45967]]\n",
      "1/1 [==============================] - 0s 16ms/step\n",
      "[[123.844376]]\n",
      "1/1 [==============================] - 0s 17ms/step\n",
      "[[124.227104]]\n",
      "1/1 [==============================] - 0s 16ms/step\n",
      "[[124.611855]]\n",
      "1/1 [==============================] - 0s 17ms/step\n",
      "[[125.00073]]\n",
      "1/1 [==============================] - 0s 17ms/step\n",
      "[[125.395035]]\n"
     ]
    }
   ],
   "source": [
    "#get the quote\n",
    "nvda_quote = web.DataReader('NVDA', data_source = 'yahoo', start='2012-01-01', end = '2022-12-22')\n",
    "\n",
    "new_df = nvda_quote.filter(['Close'])\n",
    "last_60_days = new_df[-59:]\n",
    "\n",
    "predicted_prices = []\n",
    "\n",
    "#Use each predicted price to predict the next price. Understand that this method is flawed.\n",
    "#My next attempt will make use of a many to many sequence w/ multiple features\n",
    "for i in range(0,10): \n",
    "    last_60_days_scaled = scaler.transform(last_60_days)\n",
    "    X_test = []\n",
    "    X_test.append(last_60_days_scaled)\n",
    "    X_test = np.array(X_test)\n",
    "    X_test = np.reshape(X_test, (X_test.shape[0], X_test.shape[1], 1))\n",
    "    pred_price = model.predict(X_test)\n",
    "    pred_price = scaler.inverse_transform(pred_price)\n",
    "    print(pred_price)\n",
    "    predicted_prices = np.append(predicted_prices, pred_price)\n",
    "    last_60_days = np.append(last_60_days, pred_price).reshape(60,1)\n",
    "    last_60_days = last_60_days[-59:]"
   ]
  },
  {
   "cell_type": "code",
   "execution_count": 80,
   "id": "952f66a0",
   "metadata": {},
   "outputs": [],
   "source": [
    "#export as csv\n",
    "newer_df = pd.DataFrame(columns=['Index'])\n",
    "\n",
    "newer_df['Close'] = predicted_prices.tolist()\n",
    "\n",
    "newer_df.head()\n",
    "newer_df.to_csv(r'C:\\Users\\Daniel\\Downloads\\University\\FINTECH\\Untitled Folder\\Untitled Folder\\NVDALSTM.csv', index = False, header=True)\n"
   ]
  },
  {
   "cell_type": "code",
   "execution_count": 65,
   "id": "333c38b1",
   "metadata": {
    "scrolled": false
   },
   "outputs": [
    {
     "data": {
      "text/plain": [
       "array([189.88999939, 177.92999268, 170.86000061, 180.97000122,\n",
       "       179.41999817, 187.08999634, 190.32000732, 188.78999329,\n",
       "       183.3500061 , 187.72999573, 178.49000549, 170.33999634,\n",
       "       171.80999756, 172.22000122, 179.13000488, 162.6000061 ,\n",
       "       158.00999451, 154.67999268, 150.94000244, 139.36999512,\n",
       "       136.47000122, 134.6499939 , 137.13999939, 139.8999939 ,\n",
       "       143.86999512, 145.05000305, 131.30999756, 131.27999878,\n",
       "       129.28999329, 131.97999573, 133.82000732, 131.75999451,\n",
       "       132.61000061, 125.61000061, 125.16000366, 122.27999878,\n",
       "       124.12999725, 127.36000061, 122.19999695, 121.38999939,\n",
       "       125.12000275, 131.66999817, 132.08999634, 131.30000305,\n",
       "       120.76000214, 116.69999695, 115.86000061, 115.        ,\n",
       "       119.59999847, 112.26999664, 118.87999725, 119.66999817,\n",
       "       120.51000214, 121.94000244, 124.66000366, 121.58123016,\n",
       "         1.        ,   1.        ,   1.        ])"
      ]
     },
     "execution_count": 65,
     "metadata": {},
     "output_type": "execute_result"
    }
   ],
   "source": []
  }
 ],
 "metadata": {
  "kernelspec": {
   "display_name": "Python 3 (ipykernel)",
   "language": "python",
   "name": "python3"
  },
  "language_info": {
   "codemirror_mode": {
    "name": "ipython",
    "version": 3
   },
   "file_extension": ".py",
   "mimetype": "text/x-python",
   "name": "python",
   "nbconvert_exporter": "python",
   "pygments_lexer": "ipython3",
   "version": "3.7.13"
  }
 },
 "nbformat": 4,
 "nbformat_minor": 5
}
